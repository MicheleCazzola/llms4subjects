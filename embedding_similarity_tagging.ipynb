{
 "cells": [
  {
   "cell_type": "markdown",
   "id": "a1ed7fb34b9485ee",
   "metadata": {},
   "source": [
    "[![Open In Colab](https://colab.research.google.com/assets/colab-badge.svg)](https://colab.research.google.com/github/RonPlusSign/llms4subjects/blob/main/embedding_similarity_tagging.ipynb)\n",
    "\n",
    "# Embedding Similarity Tagging\n",
    "\n",
    "The goal of this notebook is to run the `embedding_similarity_tagging.py` script with different parameters (e.g. different embedding models).\n",
    "\n",
    "The script uses a SentenceTransformer model to encode document texts and tag embeddings,\n",
    "and then computes the similarity between them to tag the documents with the most similar GND tags.\n",
    "\n",
    "The quality of the tagging results is evaluated using the `shared-task-eval-script/llms4subjects-evaluation.py` script."
   ]
  },
  {
   "cell_type": "code",
   "execution_count": null,
   "id": "c5f85a4a4082790c",
   "metadata": {},
   "outputs": [],
   "source": [
    "# If you run this notebook in Google Colab, run this\n",
    "\n",
    "# Clone repository and move its content in the current directory\n",
    "!git clone https://github.com/RonPlusSign/llms4subjects.git\n",
    "!mv llms4subjects/* .\n",
    "!rm -r llms4subjects\n",
    "\n",
    "# Install required packages\n",
    "!pip install -r requirements.txt"
   ]
  },
  {
   "cell_type": "markdown",
   "id": "c3e291c6cdff596",
   "metadata": {},
   "source": [
    "#### Tagging with Different Embedding Models"
   ]
  },
  {
   "cell_type": "code",
   "execution_count": null,
   "id": "58ddebb865d09575",
   "metadata": {
    "ExecuteTime": {
     "end_time": "2025-02-17T23:50:23.125570Z",
     "start_time": "2025-02-17T23:50:23.120602Z"
    }
   },
   "outputs": [],
   "source": [
    "models = [\n",
    "    \"sentence-transformers/all-MiniLM-L6-v2\",\n",
    "    \"distiluse-base-multilingual-cased-v1\",\n",
    "    \"T-Systems-onsite/cross-en-de-roberta-sentence-transformer\", # this gives warning \"No sentence-transformers model found with name ...\", but it's ok\n",
    "    \"intfloat/multilingual-e5-large\",\n",
    "]"
   ]
  },
  {
   "cell_type": "code",
   "execution_count": null,
   "id": "fa95abf7cda27ebd",
   "metadata": {
    "ExecuteTime": {
     "end_time": "2025-02-07T08:31:49.319275Z",
     "start_time": "2025-02-07T08:31:03.407811Z"
    }
   },
   "outputs": [],
   "source": [
    "for model_name in models:\n",
    "\n",
    "    model_name_folder = model_name.split(\"/\")[-1]\n",
    "    tag_embeddings_file = f\"results/{model_name_folder}/tag_embeddings.json\" # Where to save the tag embeddings\n",
    "    results_dir = f\"results/{model_name_folder}\" # Where to save the tagging results\n",
    "    docs_path = \"shared-task-datasets/TIBKAT/tib-core-subjects/data/dev\" # Documents to tag\n",
    "    tag_file = \"shared-task-datasets/GND/dataset/GND-Subjects-tib-core.json\" # Tag list definition\n",
    "\n",
    "    print(f\"\\n------Running tagging with model: {model_name} ------\")\n",
    "    %run embedding_similarity_tagging.py \\\n",
    "            --model_name {model_name} \\\n",
    "            --tags_file {tag_file} \\\n",
    "            --tag_embeddings_file {tag_embeddings_file} \\\n",
    "            --results_dir {results_dir} \\\n",
    "            --docs_path {docs_path}"
   ]
  },
  {
   "cell_type": "markdown",
   "id": "68a565e13ca69209",
   "metadata": {},
   "source": [
    "#### Evaluation"
   ]
  },
  {
   "cell_type": "code",
   "execution_count": null,
   "id": "f3f0e5c01e5f754d",
   "metadata": {
    "ExecuteTime": {
     "end_time": "2025-02-17T22:18:05.535352Z",
     "start_time": "2025-02-17T22:17:17.686011Z"
    }
   },
   "outputs": [],
   "source": [
    "# Evaluate the tagging results using the evaluation script.\n",
    "for model_name in models:\n",
    "    print(f\"\\n------Evaluating tagging results for model: {model_name} ------\")\n",
    "\n",
    "    model_name_folder = model_name.split(\"/\")[-1]\n",
    "    true_labels_dir = \"shared-task-datasets/TIBKAT/tib-core-subjects/data/dev\"\n",
    "    pred_labels_dir = f\"results/{model_name_folder}/dev\"\n",
    "    results_dir = f\"results/{model_name_folder}\"\n",
    "\n",
    "    %run \"shared-task-eval-script/llms4subjects-evaluation.py\" \\\n",
    "            --team_name {model_name_folder} \\\n",
    "            --true_labels_dir {true_labels_dir} \\\n",
    "            --pred_labels_dir {pred_labels_dir} \\\n",
    "            --results_dir {results_dir}"
   ]
  },
  {
   "cell_type": "markdown",
   "id": "730b55bd4ce42a57",
   "metadata": {},
   "source": [
    "## SentenceTransformer fine-tuning\n",
    "\n",
    "The `finetune_sentence_transformer.py` script fine-tunes a SentenceTransformer model on training data for subject tagging."
   ]
  },
  {
   "cell_type": "code",
   "execution_count": null,
   "id": "a7ac690639b51a6a",
   "metadata": {
    "ExecuteTime": {
     "end_time": "2025-02-18T00:26:30.980508Z",
     "start_time": "2025-02-17T23:50:27.674326Z"
    }
   },
   "outputs": [],
   "source": [
    "# Finetune all SentenceTransformer models on the training data\n",
    "for model_name in models:\n",
    "    \n",
    "    print(f\"\\n------Fine-tuning model: {model_name} ------\")\n",
    "\n",
    "    model_name_clean = model_name.split(\"/\")[-1]\n",
    "    training_data_dir = \"shared-task-datasets/TIBKAT/tib-core-subjects/data/train\"\n",
    "    eval_data_dir = \"shared-task-datasets/TIBKAT/tib-core-subjects/data/dev\"\n",
    "    gnd_tags_file = \"shared-task-datasets/GND/dataset/GND-Subjects-tib-core.json\"\n",
    "    output_model_path = f\"models/finetuned/{model_name_clean}\"\n",
    "    #print(f\"./finetune_sentence_transformer.py --training_path {training_data_dir} --eval_path {eval_data_dir} --gnd_tags_file {gnd_tags_file} --model_name {model_name} --output_model_path {output_model_path} --batch_size 16 --num_epochs 5 --PEFT 2\")\n",
    "    %run finetune_sentence_transformer.py \\\n",
    "            --training_path {training_data_dir} \\\n",
    "            --eval_path {eval_data_dir} \\\n",
    "            --gnd_tags_file {gnd_tags_file} \\\n",
    "            --model_name {model_name} \\\n",
    "            --output_model_path {output_model_path} \\\n",
    "            --batch_size 16 \\\n",
    "            --num_epochs 1 \\\n",
    "            --PEFT 2\n",
    "    break"
   ]
  },
  {
   "cell_type": "markdown",
   "id": "41c30c1b5024d589",
   "metadata": {},
   "source": [
    "#### Evaluate the fine-tuned models"
   ]
  },
  {
   "cell_type": "code",
   "execution_count": null,
   "id": "da1a313a4b87661b",
   "metadata": {},
   "outputs": [],
   "source": [
    "# Evaluate the fine-tuned models using the evaluation script.\n",
    "for model_name in models:\n",
    "    print(f\"\\n------Evaluating fine-tuned model: {model_name} ------\")\n",
    "\n",
    "    model_name_clean = model_name.split(\"/\")[-1]\n",
    "    model_path = f\"models/finetuned/{model_name_clean}\"\n",
    "    true_labels_dir = \"shared-task-datasets/TIBKAT/tib-core-subjects/data/dev\"\n",
    "    results_dir = f\"results/finetuned/{model_name_clean}\"\n",
    "    result_name = f\"finetuned_{model_name_clean}\"\n",
    "\n",
    "    %run \"shared-task-eval-script/llms4subjects-evaluation.py\" \\\n",
    "            --team_name {result_name} \\\n",
    "            --model_path {model_path} \\\n",
    "            --true_labels_dir {true_labels_dir} \\\n",
    "            --results_dir {results_dir}"
   ]
  },
  {
   "cell_type": "markdown",
   "id": "66837721",
   "metadata": {},
   "source": [
    "## Using a MLP"
   ]
  },
  {
   "cell_type": "code",
   "execution_count": null,
   "id": "eb8391c5",
   "metadata": {},
   "outputs": [
    {
     "name": "stdout",
     "output_type": "stream",
     "text": [
      "Using device: cuda\n",
      "Loading model...\n",
      "Model loaded.\n",
      "Loading GND tags and building mapping...\n",
      "Loaded 79427 GND tags.\n",
      "Building training examples...\n",
      "Created 87896 training examples.\n",
      "Building evaluation examples...\n",
      "Created 14711 evaluation examples.\n",
      "Getting embeddings...\n"
     ]
    }
   ],
   "source": [
    "model_name = \"all-MiniLM-L6-v2\"\n",
    "\n",
    "model_name_clean = model_name.split(\"/\")[-1]\n",
    "model_path = f\"{model_name_clean}\"\n",
    "training_data_dir = \"shared-task-datasets/TIBKAT/tib-core-subjects/data/train\"\n",
    "eval_data_dir = \"shared-task-datasets/TIBKAT/tib-core-subjects/data/dev\"\n",
    "gnd_tags_file = \"shared-task-datasets/GND/dataset/GND-Subjects-tib-core.json\"\n",
    "\n",
    "%run \"binary_mlp.py\" \\\n",
    "        --training_path {training_data_dir} \\\n",
    "        --eval_path {eval_data_dir} \\\n",
    "        --gnd_tags_file {gnd_tags_file} \\\n",
    "        --model_name {model_path} \\\n",
    "        --batch_size 16 \\\n",
    "        --num_epochs 5 "
   ]
  }
 ],
 "metadata": {
  "kernelspec": {
   "display_name": ".venv",
   "language": "python",
   "name": "python3"
  },
  "language_info": {
   "codemirror_mode": {
    "name": "ipython",
    "version": 3
   },
   "file_extension": ".py",
   "mimetype": "text/x-python",
   "name": "python",
   "nbconvert_exporter": "python",
   "pygments_lexer": "ipython3",
   "version": "3.12.2"
  }
 },
 "nbformat": 4,
 "nbformat_minor": 5
}
