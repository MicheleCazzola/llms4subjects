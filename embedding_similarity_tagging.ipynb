{
 "cells": [
  {
   "metadata": {},
   "cell_type": "markdown",
   "source": [
    "[![Open In Colab](https://colab.research.google.com/assets/colab-badge.svg)](https://colab.research.google.com/github/RonPlusSign/llms4subjects/blob/main/embedding_similarity_tagging.ipynb)\n",
    "\n",
    "# Embedding Similarity Tagging\n",
    "\n",
    "The goal of this notebook is to run the `embedding_similarity_tagging.py` script with different parameters (e.g. different embedding models).\n",
    "\n",
    "The script uses a SentenceTransformer model to encode document texts and tag embeddings,\n",
    "and then computes the similarity between them to tag the documents with the most similar GND tags.\n",
    "\n",
    "The quality of the tagging results is evaluated using the `shared-task-eval-script/llms4subjects-evaluation.py` script."
   ],
   "id": "a1ed7fb34b9485ee"
  },
  {
   "metadata": {},
   "cell_type": "code",
   "outputs": [],
   "execution_count": null,
   "source": [
    "# If you run this notebook in Google Colab, run this\n",
    "\n",
    "# Clone repository and move its content in the current directory\n",
    "!git clone https://github.com/RonPlusSign/llms4subjects.git\n",
    "!mv llms4subjects/* .\n",
    "!rm llms4subjects\n",
    "\n",
    "# Install required packages\n",
    "!pip install -r requirements.txt"
   ],
   "id": "c5f85a4a4082790c"
  },
  {
   "metadata": {},
   "cell_type": "markdown",
   "source": "#### Tagging with Different Embedding Models",
   "id": "c3e291c6cdff596"
  },
  {
   "metadata": {
    "ExecuteTime": {
     "end_time": "2025-02-06T16:02:17.268240Z",
     "start_time": "2025-02-06T16:01:41.264186Z"
    }
   },
   "cell_type": "code",
   "source": [
    "models = [\n",
    "    \"distiluse-base-multilingual-cased-v1\",\n",
    "    \"sentence-transformers/all-MiniLM-L6-v2\",\n",
    "    \"T-Systems-onsite/cross-en-de-roberta-sentence-transformer\", # this gives warning \"No sentence-transformers model found with name ...\", but it's ok\n",
    "    \"intfloat/multilingual-e5-large\"\n",
    "]\n",
    "\n",
    "for model_name in models:\n",
    "\n",
    "    model_name_folder = model_name.split(\"/\")[-1]\n",
    "    tag_embeddings_file = f\"results/{model_name_folder}/tag_embeddings.json\" # Where to save the tag embeddings\n",
    "    results_dir = f\"results/{model_name_folder}/dev\" # Where to save the tagging results\n",
    "    docs_path = \"shared-task-datasets/TIBKAT/tib-core-subjects/data/dev\" # Documents to tag\n",
    "    tag_file = \"shared-task-datasets/GND/dataset/GND-Subjects-tib-core.json\" # Tag list definition\n",
    "\n",
    "    print(f\"\\n------Running tagging with model: {model_name} ------\")\n",
    "    !python embedding_similarity_tagging.py \\\n",
    "            --model_name {model_name} \\\n",
    "            --tags_file {tag_file} \\\n",
    "            --tag_embeddings_file {tag_embeddings_file} \\\n",
    "            --results_dir {results_dir} \\\n",
    "            --docs_path {docs_path}"
   ],
   "id": "fa95abf7cda27ebd",
   "outputs": [
    {
     "name": "stdout",
     "output_type": "stream",
     "text": [
      "\n",
      "------Running tagging with model: T-Systems-onsite/cross-en-de-roberta-sentence-transformer ------\n",
      "Loading model...\r\n",
      "No sentence-transformers model found with name T-Systems-onsite/cross-en-de-roberta-sentence-transformer. Creating a new one with mean pooling.\r\n",
      "Loading GND tags...\r\n",
      "Processing test documents and computing similarities...\r\n",
      "Found 6980 documents in shared-task-datasets/TIBKAT/tib-core-subjects/data/dev.\r\n",
      "Tagging documents:   0%|                      | 30/6980 [00:14<56:05,  2.07it/s]\r\n",
      "Tagging complete. Individual results saved in corresponding files.\r\n"
     ]
    }
   ],
   "execution_count": 18
  },
  {
   "metadata": {},
   "cell_type": "markdown",
   "source": "#### Evaluation",
   "id": "68a565e13ca69209"
  },
  {
   "metadata": {
    "ExecuteTime": {
     "end_time": "2025-02-06T15:52:45.363740Z",
     "start_time": "2025-02-06T15:52:43.877405Z"
    }
   },
   "cell_type": "code",
   "source": [
    "# Evaluate the tagging results using the evaluation script.\n",
    "for model_name in models:\n",
    "    model_name_folder = model_name.split(\"/\")[-1]\n",
    "    true_labels_dir = \"shared-task-datasets/TIBKAT/tib-core-subjects/data/dev\"\n",
    "    pred_labels_dir = f\"results/{model_name_folder}/dev\"\n",
    "    results_dir = f\"results/{model_name_folder}\"\n",
    "\n",
    "    !python \"shared-task-eval-script/llms4subjects-evaluation.py\" \\\n",
    "            --team_name=PoliTo \\\n",
    "            --true_labels_dir {true_labels_dir} \\\n",
    "            --pred_labels_dir {pred_labels_dir} \\\n",
    "            --results_dir {results_dir}"
   ],
   "id": "f3f0e5c01e5f754d",
   "outputs": [
    {
     "name": "stdout",
     "output_type": "stream",
     "text": [
      "\r\n",
      "LLMs4Subjects Shared Task -- Evaluations\r\n",
      "\r\n",
      "Reading the True GND labels...\r\n",
      "Reading the Predicted GND labels...\r\n",
      "\r\n",
      "Evaluating the directory structure of the predicted folder...\r\n",
      "\r\n",
      "Evaluating the predicted GND labels...\r\n",
      "\r\n",
      "Evaluating GND Subject Codes -- Granularity Level: Combined Language and Record-levels and k: 5\r\n",
      "Evaluating GND Subject Codes -- Granularity Level: Record Type level and k: 5\r\n",
      "Evaluating GND Subject Codes -- Granularity Level: Language level and k: 5\r\n",
      "\r\n",
      "Evaluating GND Subject Codes -- Granularity Level: Combined Language and Record-levels and k: 10\r\n",
      "Evaluating GND Subject Codes -- Granularity Level: Record Type level and k: 10\r\n",
      "Evaluating GND Subject Codes -- Granularity Level: Language level and k: 10\r\n",
      "\r\n",
      "Evaluating GND Subject Codes -- Granularity Level: Combined Language and Record-levels and k: 15\r\n",
      "Evaluating GND Subject Codes -- Granularity Level: Record Type level and k: 15\r\n",
      "Evaluating GND Subject Codes -- Granularity Level: Language level and k: 15\r\n",
      "\r\n",
      "Evaluating GND Subject Codes -- Granularity Level: Combined Language and Record-levels and k: 20\r\n",
      "Evaluating GND Subject Codes -- Granularity Level: Record Type level and k: 20\r\n",
      "Evaluating GND Subject Codes -- Granularity Level: Language level and k: 20\r\n",
      "\r\n",
      "Evaluating GND Subject Codes -- Granularity Level: Combined Language and Record-levels and k: 25\r\n",
      "Evaluating GND Subject Codes -- Granularity Level: Record Type level and k: 25\r\n",
      "Evaluating GND Subject Codes -- Granularity Level: Language level and k: 25\r\n",
      "\r\n",
      "Evaluating GND Subject Codes -- Granularity Level: Combined Language and Record-levels and k: 30\r\n",
      "Evaluating GND Subject Codes -- Granularity Level: Record Type level and k: 30\r\n",
      "Evaluating GND Subject Codes -- Granularity Level: Language level and k: 30\r\n",
      "\r\n",
      "Evaluating GND Subject Codes -- Granularity Level: Combined Language and Record-levels and k: 35\r\n",
      "Evaluating GND Subject Codes -- Granularity Level: Record Type level and k: 35\r\n",
      "Evaluating GND Subject Codes -- Granularity Level: Language level and k: 35\r\n",
      "\r\n",
      "Evaluating GND Subject Codes -- Granularity Level: Combined Language and Record-levels and k: 40\r\n",
      "Evaluating GND Subject Codes -- Granularity Level: Record Type level and k: 40\r\n",
      "Evaluating GND Subject Codes -- Granularity Level: Language level and k: 40\r\n",
      "\r\n",
      "Evaluating GND Subject Codes -- Granularity Level: Combined Language and Record-levels and k: 45\r\n",
      "Evaluating GND Subject Codes -- Granularity Level: Record Type level and k: 45\r\n",
      "Evaluating GND Subject Codes -- Granularity Level: Language level and k: 45\r\n",
      "\r\n",
      "Evaluating GND Subject Codes -- Granularity Level: Combined Language and Record-levels and k: 50\r\n",
      "Evaluating GND Subject Codes -- Granularity Level: Record Type level and k: 50\r\n",
      "Evaluating GND Subject Codes -- Granularity Level: Language level and k: 50\r\n",
      "\r\n",
      "File containing the evaluation metrics score is saved at location: results/all-MiniLM-L6-v2/PoliTo_evaluation_metrics.xlsx\r\n"
     ]
    }
   ],
   "execution_count": 14
  }
 ],
 "metadata": {
  "kernelspec": {
   "display_name": "Python 3",
   "language": "python",
   "name": "python3"
  },
  "language_info": {
   "codemirror_mode": {
    "name": "ipython",
    "version": 2
   },
   "file_extension": ".py",
   "mimetype": "text/x-python",
   "name": "python",
   "nbconvert_exporter": "python",
   "pygments_lexer": "ipython2",
   "version": "2.7.6"
  }
 },
 "nbformat": 4,
 "nbformat_minor": 5
}
